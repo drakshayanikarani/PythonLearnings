{
 "cells": [
  {
   "cell_type": "code",
   "execution_count": 13,
   "id": "f7bfdde4",
   "metadata": {},
   "outputs": [],
   "source": [
    "class bike:\n",
    "    def __init__(self, mileage, speed, length, breadth):\n",
    "        self.mileage = float(mileage)\n",
    "        self.speed = float(speed)\n",
    "        self.length = float(length)\n",
    "        self.breadth = float(breadth)\n",
    "    def getmileage(self):\n",
    "        return self.mileage\n",
    "    def dime(self):\n",
    "        return self.length*self.breadth\n",
    "    def getspeed(self):\n",
    "        return self.speed"
   ]
  },
  {
   "cell_type": "code",
   "execution_count": 14,
   "id": "66a01754",
   "metadata": {},
   "outputs": [],
   "source": [
    "check = bike(50,65,1.2,1.3)"
   ]
  },
  {
   "cell_type": "code",
   "execution_count": 15,
   "id": "264a519b",
   "metadata": {},
   "outputs": [
    {
     "ename": "AttributeError",
     "evalue": "'bike' object has no attribute 'getMileage'",
     "output_type": "error",
     "traceback": [
      "\u001b[1;31m---------------------------------------------------------------------------\u001b[0m",
      "\u001b[1;31mAttributeError\u001b[0m                            Traceback (most recent call last)",
      "\u001b[1;32m~\\AppData\\Local\\Temp\\ipykernel_17652\\1529706888.py\u001b[0m in \u001b[0;36m<module>\u001b[1;34m\u001b[0m\n\u001b[1;32m----> 1\u001b[1;33m \u001b[0mcheck\u001b[0m\u001b[1;33m.\u001b[0m\u001b[0mgetMileage\u001b[0m\u001b[1;33m(\u001b[0m\u001b[1;33m)\u001b[0m\u001b[1;33m\u001b[0m\u001b[1;33m\u001b[0m\u001b[0m\n\u001b[0m",
      "\u001b[1;31mAttributeError\u001b[0m: 'bike' object has no attribute 'getMileage'"
     ]
    }
   ],
   "source": [
    "check.getMileage()"
   ]
  },
  {
   "cell_type": "code",
   "execution_count": null,
   "id": "fdb99eb5",
   "metadata": {},
   "outputs": [],
   "source": []
  }
 ],
 "metadata": {
  "kernelspec": {
   "display_name": "Python 3 (ipykernel)",
   "language": "python",
   "name": "python3"
  },
  "language_info": {
   "codemirror_mode": {
    "name": "ipython",
    "version": 3
   },
   "file_extension": ".py",
   "mimetype": "text/x-python",
   "name": "python",
   "nbconvert_exporter": "python",
   "pygments_lexer": "ipython3",
   "version": "3.9.13"
  }
 },
 "nbformat": 4,
 "nbformat_minor": 5
}
