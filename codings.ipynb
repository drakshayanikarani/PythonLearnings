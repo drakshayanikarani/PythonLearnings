{
 "cells": [
  {
   "cell_type": "code",
   "execution_count": null,
   "id": "a1c3c5c8",
   "metadata": {},
   "outputs": [],
   "source": [
    "\n",
    "fruitbascket = [\"Apple\",\"Orange\",\"cherry\",\"pineaple\"]\n",
    "for fruits in fruitbascket:\n",
    "    print(fruits)"
   ]
  },
  {
   "cell_type": "code",
   "execution_count": null,
   "id": "de93f189",
   "metadata": {},
   "outputs": [],
   "source": [
    "numlist = [2,4,2,5,7,9,23,4,5]\n",
    "numsum = sum(numlist)\n",
    "print('Sum of List: ',numsum)\n",
    "numsum = sum(numlist, 5)\n",
    "print('Sum of List: ',numsum)"
   ]
  },
  {
   "cell_type": "code",
   "execution_count": null,
   "id": "240fce10",
   "metadata": {},
   "outputs": [],
   "source": [
    "n=int(input(\"Enter the number of elements to be inserted: \"))\n",
    "a=[]\n",
    "for i in range(0,n):\n",
    "    elem=int(input(\"Enter element: \"))\n",
    "    a.append(elem)\n",
    "avg=sum(a)/n\n",
    "print(\"Average of elements in the list\",round(avg,4))"
   ]
  },
  {
   "cell_type": "code",
   "execution_count": null,
   "id": "1bd11374",
   "metadata": {},
   "outputs": [],
   "source": []
  },
  {
   "cell_type": "code",
   "execution_count": null,
   "id": "805c3ff7",
   "metadata": {},
   "outputs": [],
   "source": [
    "#multiply all numbers in list\n",
    "\n",
    "#function\n",
    "def mul_list(list) :\n",
    "     \n",
    "# Multiply elements one by one\n",
    "    product = 1\n",
    "    for i in list:\n",
    "         product = product * i\n",
    "    return product\n",
    "     \n",
    "\n",
    "list1 = [11, 12, 4, 3]\n",
    "print(list1)\n",
    "print(\"product: \") \n",
    "print(mul_list(list1))"
   ]
  },
  {
   "cell_type": "code",
   "execution_count": null,
   "id": "e3aeda84",
   "metadata": {},
   "outputs": [],
   "source": [
    "def mul_list(list) :\n",
    "     \n",
    "    # Multiply elements one by one\n",
    "    product = 1\n",
    "    for i in list:\n",
    "         product = product * i\n",
    "    return product\n",
    "     \n",
    "\n",
    "list1 = [11, 12, 4, 3]\n",
    "print(\"product: \") \n",
    "print(mul_list(list1))"
   ]
  },
  {
   "cell_type": "code",
   "execution_count": null,
   "id": "f823c66f",
   "metadata": {},
   "outputs": [],
   "source": [
    "nums = [43, 20, 53, 12, 53, 5, 3, 2]\n",
    "\n",
    "even = []\n",
    "odd = []\n",
    "\n",
    "for i in nums:\n",
    "    if(i % 2 != 0):\n",
    "        odd.append(i)\n",
    "print(\"Odd List: \",odd)\n",
    "       "
   ]
  },
  {
   "cell_type": "code",
   "execution_count": null,
   "id": "f13034e8",
   "metadata": {},
   "outputs": [],
   "source": [
    "numbers=[23,56,76,78,90,35,12,45]  #defined a list \n",
    "\n",
    "for i in numbers:\n",
    "    if(i%2)==0:  \n",
    "        print (\"is even\"   print even number)\n",
    "    else:\n",
    "        print (\"is odd\"     print odd number)"
   ]
  },
  {
   "cell_type": "code",
   "execution_count": null,
   "id": "e3676572",
   "metadata": {},
   "outputs": [],
   "source": [
    "sam_list = [11, 13, 15, 16, 13, 15, 16, 11] \n",
    "print (\"The list is: \" + str(sam_list)) \n",
    "\n",
    " \n",
    "# to remove duplicated from list \n",
    "result = [] \n",
    "[result.append(x) for x in sam_list if x not in result] \n",
    "\n",
    "# printing list after removal \n",
    "print (\"The list after removing duplicates: \" + str(result)) \n",
    " "
   ]
  },
  {
   "cell_type": "code",
   "execution_count": null,
   "id": "1fa9b3d3",
   "metadata": {},
   "outputs": [],
   "source": [
    "familyMembers = [\"father\",\"mother\",\"sister\",\"brother\"]\n",
    "search = input(\"please enter the member which you want to look for:\")\n",
    "for i in range(len(familyMembers)):\n",
    "    if search == (familyMembers[i]):\n",
    "        print(f\"yes that member is in list\")\n",
    "        break\n",
    "    else:\n",
    "        print(f\"no that member is not in list\")"
   ]
  },
  {
   "cell_type": "code",
   "execution_count": null,
   "id": "87f77951",
   "metadata": {},
   "outputs": [],
   "source": [
    "string = input(\"Please enter your input\")\n",
    "for i in string[::2]:\n",
    "    if (string.index(i))%2==0:\n",
    "        print(i)"
   ]
  },
  {
   "cell_type": "code",
   "execution_count": null,
   "id": "a65004f7",
   "metadata": {},
   "outputs": [],
   "source": [
    "\n",
    "lower = 0\n",
    "upper = 100\n",
    "for x in range(lower,upper+1):\n",
    "    if x%5==0:\n",
    "        print(x)\n",
    "for y in range(lower,upper+1):\n",
    "    if y%3==0:\n",
    "        print(y)\n",
    "       "
   ]
  },
  {
   "cell_type": "code",
   "execution_count": null,
   "id": "787bf7de",
   "metadata": {},
   "outputs": [],
   "source": [
    "lower = 0\n",
    "upper = 100\n",
    "for x,y in range(lower,upper+1):\n",
    "    if x%5==0:\n",
    "    if y%3==0:\n",
    "        print(x,y)\n",
    "        "
   ]
  },
  {
   "cell_type": "code",
   "execution_count": null,
   "id": "d69afa09",
   "metadata": {},
   "outputs": [],
   "source": [
    "ch=int(input(\"Enter Choice(1-4): \"))\n",
    "\n",
    "if ch==1:\n",
    "    a=int(input(\"Enter A:\"))\n",
    "    b=int(input(\"Enter B:\"))\n",
    "    c=a+b\n",
    "    print(\"Sum = \",c)\n",
    "elif ch==2:\n",
    "    a=int(input(\"Enter A:\"))\n",
    "    b=int(input(\"Enter B:\"))\n",
    "    c=a-b\n",
    "    print(\"Difference = \",c)\n",
    "elif  ch==3:\n",
    "    a=int(input(\"Enter A:\"))\n",
    "    b=int(input(\"Enter B:\"))\n",
    "    c=a*b\n",
    "    print(\"Product = \",c)\n",
    "elif ch==4:\n",
    "    a=int(input(\"Enter A:\"))\n",
    "    b=int(input(\"Enter B:\"))\n",
    "    c=a/b\n",
    "    print(\"Quotient = \",c)\n",
    "else:\n",
    "    print(\"Invalid Choice\")"
   ]
  },
  {
   "cell_type": "code",
   "execution_count": 1,
   "id": "dc6bc747",
   "metadata": {},
   "outputs": [
    {
     "ename": "SyntaxError",
     "evalue": "cannot assign to operator (4148456550.py, line 2)",
     "output_type": "error",
     "traceback": [
      "\u001b[1;36m  File \u001b[1;32m\"C:\\Users\\Drakshayani_Karani\\AppData\\Local\\Temp\\ipykernel_13372\\4148456550.py\"\u001b[1;36m, line \u001b[1;32m2\u001b[0m\n\u001b[1;33m    for i**2 in l\u001b[0m\n\u001b[1;37m        ^\u001b[0m\n\u001b[1;31mSyntaxError\u001b[0m\u001b[1;31m:\u001b[0m cannot assign to operator\n"
     ]
    }
   ],
   "source": [
    "l = [1, 2, 3, 4]\n",
    "for i**2 in l\n"
   ]
  },
  {
   "cell_type": "code",
   "execution_count": null,
   "id": "a0353165",
   "metadata": {},
   "outputs": [],
   "source": [
    "#13. Write a program to search name inside a list of names\n",
    "names = [\"akhil\",\"manohar\",\"bhaskar\"]\n",
    "searchnames = input(\"enter the name what you want to search:\")\n",
    "if searchnames in names:\n",
    "    print(f\"searchnames found inside the list\")\n",
    "else:\n",
    "    print(f\"serach names not found inside the list\")"
   ]
  },
  {
   "cell_type": "code",
   "execution_count": null,
   "id": "4e66c6cd",
   "metadata": {},
   "outputs": [],
   "source": [
    "#Write a program to display numbers divisible by 3 as “Ping”, 5 as “Pong” and “Ping Pong”(if\n",
    "#divisible by both 3 and 5) between the range of 0,100\n",
    "lower = 0\n",
    "upper = 100\n",
    "for i in range(lower,upper+1):\n",
    "    if i%3==0 and i%5==0:\n",
    "        print(\"ping pong\")\n",
    "    elif i%3==0:\n",
    "        print(\"ping\")\n",
    "    elif i%5==0:\n",
    "        print(\"pong\")\n",
    "    else:\n",
    "        print(i)"
   ]
  },
  {
   "cell_type": "code",
   "execution_count": null,
   "id": "6f9c2913",
   "metadata": {},
   "outputs": [],
   "source": [
    "odd[]\n",
    "for number in range(1, num + 1):\n",
    "    if(number % 2 != 0):\n",
    "    print(\"{0}\".format(number))       "
   ]
  },
  {
   "cell_type": "code",
   "execution_count": null,
   "id": "ae9277ea",
   "metadata": {},
   "outputs": [],
   "source": []
  },
  {
   "cell_type": "code",
   "execution_count": 2,
   "id": "8eead197",
   "metadata": {},
   "outputs": [
    {
     "name": "stdout",
     "output_type": "stream",
     "text": [
      "Novel\n",
      "year\n",
      "author\n",
      "character\n"
     ]
    }
   ],
   "source": [
    "dictionary = {\n",
    "   'Novel': 'Pride and Prejudice',\n",
    "   'year': '1813',\n",
    "   'author': 'Jane Austen',\n",
    "   'character': 'Elizabeth Bennet'\n",
    "}\n",
    "\n",
    "for keys, value in dictionary.items():\n",
    "   print(keys)"
   ]
  },
  {
   "cell_type": "code",
   "execution_count": null,
   "id": "1a71969f",
   "metadata": {},
   "outputs": [],
   "source": [
    "strings = \"characters\"\n",
    "string_lists = \"ccchhhaaarrraaacccttteeerrr\";  \n",
    "   \n",
    "#Displays individual characters from given string  \n",
    "print(\"Individual characters from given string:\");  \n",
    "   \n",
    "#Iterate through the string and display individual character  \n",
    "for i in range(0,len(string)):  \n",
    "    print(string[i], end=\"  \");  "
   ]
  },
  {
   "cell_type": "code",
   "execution_count": null,
   "id": "6826510c",
   "metadata": {},
   "outputs": [],
   "source": [
    " print (string)          \t# printing complete string\n",
    "print (string[i])       \t# printing ith element of string\n",
    "print (string[i], string[j])# printing ith and jth elements\n",
    "print (string[i:j])     \t# printing elements from ith index to jth index\n",
    "print (string[i:])      \t# printing all elements from ith index\n",
    "print (string * 2)  \t# printing string two times\n",
    "print (string1 + string2) \t# printing concatenated string1 & string2"
   ]
  },
  {
   "cell_type": "code",
   "execution_count": null,
   "id": "10d35863",
   "metadata": {},
   "outputs": [],
   "source": [
    "string = \"The best of both worlds\";  \n",
    "count = 0;  \n",
    "   \n",
    "#Counts each character except space  \n",
    "for i in range(0, len(string)):  \n",
    "    if(string[i] != ' '):  \n",
    "        count = count + 1;  \n",
    "   \n",
    "#Displays the total number of characters present in the given string  \n",
    "print(\"Total number of letters in a string: \" + str(count));  "
   ]
  },
  {
   "cell_type": "code",
   "execution_count": 4,
   "id": "019b1cab",
   "metadata": {},
   "outputs": [
    {
     "name": "stdout",
     "output_type": "stream",
     "text": [
      "enter the number which you want the tables5\n",
      "5*1=5\n",
      "5*2=10\n",
      "5*3=15\n",
      "5*4=20\n",
      "5*5=25\n",
      "5*6=30\n",
      "5*7=35\n",
      "5*8=40\n",
      "5*9=45\n",
      "5*10=50\n"
     ]
    }
   ],
   "source": [
    "number=int(input(\"enter the number which you want the tables\"))\n",
    "for i in range(1,11):\n",
    "    print(f\"{number}*{i}={number*i}\")"
   ]
  },
  {
   "cell_type": "code",
   "execution_count": null,
   "id": "1840c03e",
   "metadata": {},
   "outputs": [],
   "source": [
    "number=5\n",
    "for i in range(1,11):\n",
    "    print(f\"{number}*{i}={number*i}\")"
   ]
  },
  {
   "cell_type": "code",
   "execution_count": 3,
   "id": "8e1b81b0",
   "metadata": {},
   "outputs": [
    {
     "name": "stdout",
     "output_type": "stream",
     "text": [
      "enter the number of which you want the tables5\n"
     ]
    },
    {
     "ename": "NameError",
     "evalue": "name 'count' is not defined",
     "output_type": "error",
     "traceback": [
      "\u001b[1;31m---------------------------------------------------------------------------\u001b[0m",
      "\u001b[1;31mNameError\u001b[0m                                 Traceback (most recent call last)",
      "\u001b[1;32m~\\AppData\\Local\\Temp\\ipykernel_13372\\3445709632.py\u001b[0m in \u001b[0;36m<module>\u001b[1;34m\u001b[0m\n\u001b[0;32m      1\u001b[0m \u001b[0mnumber\u001b[0m \u001b[1;33m=\u001b[0m \u001b[0mint\u001b[0m\u001b[1;33m(\u001b[0m\u001b[0minput\u001b[0m\u001b[1;33m(\u001b[0m\u001b[1;34m\"enter the number of which you want the tables\"\u001b[0m\u001b[1;33m)\u001b[0m\u001b[1;33m)\u001b[0m\u001b[1;33m\u001b[0m\u001b[1;33m\u001b[0m\u001b[0m\n\u001b[1;32m----> 2\u001b[1;33m \u001b[1;32mwhile\u001b[0m \u001b[0mcount\u001b[0m\u001b[1;33m<=\u001b[0m\u001b[1;36m10\u001b[0m\u001b[1;33m:\u001b[0m\u001b[1;33m\u001b[0m\u001b[1;33m\u001b[0m\u001b[0m\n\u001b[0m\u001b[0;32m      3\u001b[0m     \u001b[0mprint\u001b[0m\u001b[1;33m(\u001b[0m\u001b[1;34mf\"{number}*{count}={number*count}\"\u001b[0m\u001b[1;33m)\u001b[0m\u001b[1;33m\u001b[0m\u001b[1;33m\u001b[0m\u001b[0m\n\u001b[0;32m      4\u001b[0m     \u001b[0mcount\u001b[0m\u001b[1;33m+=\u001b[0m\u001b[1;36m1\u001b[0m\u001b[1;33m\u001b[0m\u001b[1;33m\u001b[0m\u001b[0m\n",
      "\u001b[1;31mNameError\u001b[0m: name 'count' is not defined"
     ]
    }
   ],
   "source": [
    "number = int(input(\"enter the number of which you want the tables\"))\n",
    "while count<=10:\n",
    "    print(f\"{number}*{count}={number*count}\")\n",
    "    count+=1"
   ]
  },
  {
   "cell_type": "code",
   "execution_count": null,
   "id": "006501a5",
   "metadata": {},
   "outputs": [],
   "source": [
    "number=int(input(\"The multiplication table of \"))\n",
    "count = 1\n",
    "while count <= 10:\n",
    "    print(f\" {number {count} = {number*count}\")\n",
    "    # increment the counter variable\n",
    "    count += 1"
   ]
  },
  {
   "cell_type": "code",
   "execution_count": 5,
   "id": "4a95af01",
   "metadata": {},
   "outputs": [
    {
     "name": "stdout",
     "output_type": "stream",
     "text": [
      "enter the number5\n",
      "5*1=5\n",
      "5*2=10\n",
      "5*3=15\n",
      "5*4=20\n",
      "5*5=25\n",
      "5*6=30\n",
      "5*7=35\n",
      "5*8=40\n",
      "5*9=45\n",
      "5*10=50\n"
     ]
    }
   ],
   "source": [
    "number = int(input(\"enter the number\"))\n",
    "count = 0\n",
    "while count<=9:\n",
    "    count+=1\n",
    "    print(f\"{number}*{count}={number*count}\")"
   ]
  },
  {
   "cell_type": "code",
   "execution_count": 7,
   "id": "a2e38d72",
   "metadata": {},
   "outputs": [
    {
     "name": "stdout",
     "output_type": "stream",
     "text": [
      "Enter a numer \n",
      "456\n",
      "Number of Digits:3\n"
     ]
    }
   ],
   "source": [
    "num = int(input(\"Enter a numer \\n\"))\n",
    "count = 0\n",
    "\n",
    "#counting number of digits in 'num'\n",
    "while num>0:\n",
    "    count +=1\n",
    "    num = num//10;\n",
    "    \n",
    "print(\"Number of Digits:\" +str(count))"
   ]
  },
  {
   "cell_type": "code",
   "execution_count": null,
   "id": "f545f0f3",
   "metadata": {},
   "outputs": [],
   "source": [
    "num = 123456\n",
    "print(len(str(num)))"
   ]
  },
  {
   "cell_type": "code",
   "execution_count": null,
   "id": "4f7f298d",
   "metadata": {},
   "outputs": [],
   "source": [
    "def solve(n):\n",
    "   if n <= 2:\n",
    "      return n - 1\n",
    "   else:\n",
    "      return solve(n - 1) + solve(n - 2)\n",
    "\n",
    "n = 8\n",
    "print(solve(n))"
   ]
  },
  {
   "cell_type": "code",
   "execution_count": null,
   "id": "6901b698",
   "metadata": {},
   "outputs": [],
   "source": [
    "a,b=3,2\n",
    "a,b=b,a"
   ]
  },
  {
   "cell_type": "code",
   "execution_count": null,
   "id": "9df4bddb",
   "metadata": {},
   "outputs": [],
   "source": [
    "months = [\"jan\",\"feb\",\"mar\",\"april\",\"may\",\"jun\",\"july\",\"aug\",\"sept\",\"oct\",\"nov\",\"dec\"]\n",
    "num_months = [1,2,3,4,5,6,7,8,9,10,11,12]\n",
    "dict={}\n",
    "for key in months:\n",
    "    for value in num_months:\n",
    "        dict[value] = key\n",
    "        num_months.remove(value)\n",
    "        break\n",
    "print(\"dictionary from lists:\\n\",dict)"
   ]
  },
  {
   "cell_type": "code",
   "execution_count": 8,
   "id": "29f5593d",
   "metadata": {},
   "outputs": [
    {
     "name": "stdout",
     "output_type": "stream",
     "text": [
      "Enter value to check:5\n"
     ]
    },
    {
     "ename": "AttributeError",
     "evalue": "'set' object has no attribute 'values'",
     "output_type": "error",
     "traceback": [
      "\u001b[1;31m---------------------------------------------------------------------------\u001b[0m",
      "\u001b[1;31mAttributeError\u001b[0m                            Traceback (most recent call last)",
      "\u001b[1;32m~\\AppData\\Local\\Temp\\ipykernel_13372\\3167268172.py\u001b[0m in \u001b[0;36m<module>\u001b[1;34m\u001b[0m\n\u001b[0;32m      1\u001b[0m \u001b[0md\u001b[0m\u001b[1;33m=\u001b[0m\u001b[1;33m{\u001b[0m\u001b[1;36m1\u001b[0m\u001b[1;33m,\u001b[0m\u001b[1;36m2\u001b[0m\u001b[1;33m,\u001b[0m\u001b[1;36m3\u001b[0m\u001b[1;33m}\u001b[0m\u001b[1;33m\u001b[0m\u001b[1;33m\u001b[0m\u001b[0m\n\u001b[0;32m      2\u001b[0m \u001b[0mvalue\u001b[0m\u001b[1;33m=\u001b[0m\u001b[0minput\u001b[0m\u001b[1;33m(\u001b[0m\u001b[1;34m\"Enter value to check:\"\u001b[0m\u001b[1;33m)\u001b[0m\u001b[1;33m\u001b[0m\u001b[1;33m\u001b[0m\u001b[0m\n\u001b[1;32m----> 3\u001b[1;33m \u001b[1;32mif\u001b[0m \u001b[0mvalue\u001b[0m \u001b[1;32min\u001b[0m \u001b[0md\u001b[0m\u001b[1;33m.\u001b[0m\u001b[0mvalues\u001b[0m\u001b[1;33m(\u001b[0m\u001b[1;33m)\u001b[0m\u001b[1;33m:\u001b[0m\u001b[1;33m\u001b[0m\u001b[1;33m\u001b[0m\u001b[0m\n\u001b[0m\u001b[0;32m      4\u001b[0m       \u001b[0mprint\u001b[0m\u001b[1;33m(\u001b[0m\u001b[1;34m\"value is present and value of the key is:\"\u001b[0m\u001b[1;33m)\u001b[0m\u001b[1;33m\u001b[0m\u001b[1;33m\u001b[0m\u001b[0m\n\u001b[0;32m      5\u001b[0m       \u001b[0mprint\u001b[0m\u001b[1;33m(\u001b[0m\u001b[0md\u001b[0m\u001b[1;33m[\u001b[0m\u001b[0mvalue\u001b[0m\u001b[1;33m]\u001b[0m\u001b[1;33m)\u001b[0m\u001b[1;33m\u001b[0m\u001b[1;33m\u001b[0m\u001b[0m\n",
      "\u001b[1;31mAttributeError\u001b[0m: 'set' object has no attribute 'values'"
     ]
    }
   ],
   "source": [
    "d={1,2,3}\n",
    "value=input(\"Enter value to check:\")\n",
    "if value in d.values():\n",
    "      print(\"value is present and value of the key is:\")\n",
    "      print(d[value])\n",
    "else:\n",
    "      print(\"value isn't present!\")"
   ]
  },
  {
   "cell_type": "code",
   "execution_count": 9,
   "id": "3c252e45",
   "metadata": {},
   "outputs": [
    {
     "ename": "AttributeError",
     "evalue": "'int' object has no attribute 'items'",
     "output_type": "error",
     "traceback": [
      "\u001b[1;31m---------------------------------------------------------------------------\u001b[0m",
      "\u001b[1;31mAttributeError\u001b[0m                            Traceback (most recent call last)",
      "\u001b[1;32m~\\AppData\\Local\\Temp\\ipykernel_13372\\4073109001.py\u001b[0m in \u001b[0;36m<module>\u001b[1;34m\u001b[0m\n\u001b[0;32m      1\u001b[0m \u001b[0mfreq\u001b[0m \u001b[1;33m=\u001b[0m\u001b[1;36m12\u001b[0m\u001b[1;33m\u001b[0m\u001b[1;33m\u001b[0m\u001b[0m\n\u001b[1;32m----> 2\u001b[1;33m \u001b[1;32mif\u001b[0m \u001b[0many\u001b[0m\u001b[1;33m(\u001b[0m\u001b[1;33m[\u001b[0m\u001b[1;32mTrue\u001b[0m \u001b[1;32mfor\u001b[0m \u001b[0mk\u001b[0m\u001b[1;33m,\u001b[0m\u001b[0mv\u001b[0m \u001b[1;32min\u001b[0m \u001b[0mfreq\u001b[0m\u001b[1;33m.\u001b[0m\u001b[0mitems\u001b[0m\u001b[1;33m(\u001b[0m\u001b[1;33m)\u001b[0m \u001b[1;32mif\u001b[0m \u001b[0mv\u001b[0m \u001b[1;33m==\u001b[0m \u001b[0mvalue\u001b[0m\u001b[1;33m]\u001b[0m\u001b[1;33m)\u001b[0m\u001b[1;33m:\u001b[0m\u001b[1;33m\u001b[0m\u001b[1;33m\u001b[0m\u001b[0m\n\u001b[0m\u001b[0;32m      3\u001b[0m     \u001b[0mprint\u001b[0m\u001b[1;33m(\u001b[0m\u001b[1;34mf\"Yes, Value: '{value}' exists in dictionary\"\u001b[0m\u001b[1;33m)\u001b[0m\u001b[1;33m\u001b[0m\u001b[1;33m\u001b[0m\u001b[0m\n\u001b[0;32m      4\u001b[0m \u001b[1;32melse\u001b[0m\u001b[1;33m:\u001b[0m\u001b[1;33m\u001b[0m\u001b[1;33m\u001b[0m\u001b[0m\n\u001b[0;32m      5\u001b[0m     \u001b[0mprint\u001b[0m\u001b[1;33m(\u001b[0m\u001b[1;34mf\"No, Value: '{value}' does not exists in dictionary\"\u001b[0m\u001b[1;33m)\u001b[0m\u001b[1;33m\u001b[0m\u001b[1;33m\u001b[0m\u001b[0m\n",
      "\u001b[1;31mAttributeError\u001b[0m: 'int' object has no attribute 'items'"
     ]
    }
   ],
   "source": [
    "freq =12\n",
    "if any([True for k,v in freq.items() if v == value]):\n",
    "    print(f\"Yes, Value: '{value}' exists in dictionary\")\n",
    "else:\n",
    "    print(f\"No, Value: '{value}' does not exists in dictionary\")"
   ]
  },
  {
   "cell_type": "code",
   "execution_count": null,
   "id": "e55878a6",
   "metadata": {},
   "outputs": [],
   "source": [
    "dict = {\"banana\":50,\"grapes\":80,\"apple\":120}\n",
    "minimum = min(dict.keys(),key=(lambda k:dict[k]))\n",
    "print(\"minimum value:\",dict[minimum])"
   ]
  },
  {
   "cell_type": "code",
   "execution_count": null,
   "id": "b02ab1ef",
   "metadata": {},
   "outputs": [],
   "source": [
    "def multiply(*args):\n",
    "    z = 1\n",
    "    for num in args:\n",
    "        z *= num\n",
    "    print(z)"
   ]
  },
  {
   "cell_type": "code",
   "execution_count": null,
   "id": "18da2f4c",
   "metadata": {},
   "outputs": [],
   "source": [
    "multiply(4, 5)"
   ]
  },
  {
   "cell_type": "code",
   "execution_count": null,
   "id": "bbde6231",
   "metadata": {},
   "outputs": [],
   "source": [
    "import time\n",
    "start = 0\n",
    "stop = 110\n",
    "# to accelarate\n",
    "while start < stop:\n",
    "    print(f\"Your vehicle is accelerating at the speed {start} kmph\")\n",
    "    time.sleep(1)\n",
    "    start = start + 10\n",
    "print(f\"You have reached maximum speed of {start}\")   \n",
    "time.sleep(2)\n",
    "print(\"Now De-accelerating the vehicle\")\n",
    "\n",
    "# to de-accelarate\n",
    "while start >= 0:\n",
    "    print(f\"Your vehicle is De-accelerating at the speed {start} kmph\")\n",
    "    time.sleep(1)\n",
    "    start = start - 10\n",
    "print(\"Vehicle is halted\")  "
   ]
  },
  {
   "cell_type": "code",
   "execution_count": null,
   "id": "93839990",
   "metadata": {},
   "outputs": [],
   "source": [
    "import random\n",
    "start = 1\n",
    "stop = 4\n",
    "while start < stop:\n",
    "    num = int(input(f\"Enter your guess number: \"))\n",
    "    if num == random.randint(1,3):\n",
    "        print(\"Your guess is right\")\n",
    "        break\n",
    "    else:\n",
    "        print(\"Your guess is wrong\")\n",
    "    start = start + 1    "
   ]
  },
  {
   "cell_type": "code",
   "execution_count": null,
   "id": "3a30c486",
   "metadata": {},
   "outputs": [],
   "source": [
    "sum = (a,b)\n",
    "def sum(a,b,*args)\n",
    "add = a+b:\n",
    "    return add\n",
    "sum(2,3,4)"
   ]
  },
  {
   "cell_type": "code",
   "execution_count": null,
   "id": "6efe5c07",
   "metadata": {},
   "outputs": [],
   "source": [
    "def prod(a,b,*args):\n",
    " multiply = a * b\n",
    " print(f\"the prod is {multiply}\")\n",
    " print(f\"the additional arguments are {args}\")"
   ]
  },
  {
   "cell_type": "code",
   "execution_count": null,
   "id": "74ba65b7",
   "metadata": {},
   "outputs": [],
   "source": [
    "prod(2,4,3)"
   ]
  },
  {
   "cell_type": "code",
   "execution_count": null,
   "id": "800dab13",
   "metadata": {},
   "outputs": [],
   "source": [
    "def mul(a=3,b=4,**kwargs):\n",
    " prod = a * b\n",
    " print(f\"the product is {prod}\")\n",
    " print(f\"the additional arguments are {kwargs}\")"
   ]
  },
  {
   "cell_type": "code",
   "execution_count": null,
   "id": "0d102d35",
   "metadata": {},
   "outputs": [],
   "source": [
    "mul(b=5,a=2,c=3)"
   ]
  },
  {
   "cell_type": "code",
   "execution_count": null,
   "id": "bc8a6bfc",
   "metadata": {},
   "outputs": [],
   "source": []
  },
  {
   "cell_type": "code",
   "execution_count": null,
   "id": "8d84760c",
   "metadata": {},
   "outputs": [],
   "source": []
  }
 ],
 "metadata": {
  "kernelspec": {
   "display_name": "Python 3 (ipykernel)",
   "language": "python",
   "name": "python3"
  },
  "language_info": {
   "codemirror_mode": {
    "name": "ipython",
    "version": 3
   },
   "file_extension": ".py",
   "mimetype": "text/x-python",
   "name": "python",
   "nbconvert_exporter": "python",
   "pygments_lexer": "ipython3",
   "version": "3.9.13"
  }
 },
 "nbformat": 4,
 "nbformat_minor": 5
}
