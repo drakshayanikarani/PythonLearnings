{
 "cells": [
  {
   "cell_type": "code",
   "execution_count": 8,
   "id": "e05ab8b4",
   "metadata": {},
   "outputs": [
    {
     "name": "stdout",
     "output_type": "stream",
     "text": [
      "hii\n",
      "\n"
     ]
    }
   ],
   "source": [
    "f = open(\"tet.txt\")\n",
    "print(f.readline())"
   ]
  },
  {
   "cell_type": "code",
   "execution_count": 9,
   "id": "b76e2a5a",
   "metadata": {},
   "outputs": [
    {
     "name": "stdout",
     "output_type": "stream",
     "text": [
      "good morning\n",
      "\n"
     ]
    }
   ],
   "source": [
    "print(f.readline())"
   ]
  },
  {
   "cell_type": "code",
   "execution_count": 10,
   "id": "9082dbeb",
   "metadata": {},
   "outputs": [
    {
     "name": "stdout",
     "output_type": "stream",
     "text": [
      "everyone\n"
     ]
    }
   ],
   "source": [
    "print(f.readline())"
   ]
  },
  {
   "cell_type": "code",
   "execution_count": 2,
   "id": "cafc7710",
   "metadata": {},
   "outputs": [],
   "source": [
    "file = open(\"tet.txt\", mode='r')"
   ]
  },
  {
   "cell_type": "code",
   "execution_count": 3,
   "id": "465ec4f4",
   "metadata": {},
   "outputs": [
    {
     "name": "stdout",
     "output_type": "stream",
     "text": [
      "['hii\\n', 'good morning\\n', 'everyone']\n"
     ]
    }
   ],
   "source": [
    "print(file.readlines())"
   ]
  },
  {
   "cell_type": "code",
   "execution_count": 4,
   "id": "5a4b5388",
   "metadata": {},
   "outputs": [],
   "source": [
    "file = open(\"poem.txt\", mode='r')"
   ]
  },
  {
   "cell_type": "code",
   "execution_count": 5,
   "id": "502af97e",
   "metadata": {},
   "outputs": [
    {
     "name": "stdout",
     "output_type": "stream",
     "text": [
      "['\\n', 'Johny, Johny,\\n', 'Yes papa?\\n', 'Eating sugar?\\n', 'No papa.\\n', 'Telling lies?\\n', 'No papa.\\n', 'Open your mouth\\n', 'Ha ha ha!']\n"
     ]
    }
   ],
   "source": [
    "print(file.readlines())"
   ]
  },
  {
   "cell_type": "code",
   "execution_count": 6,
   "id": "32144efc",
   "metadata": {},
   "outputs": [],
   "source": [
    "poem = file.readlines()"
   ]
  },
  {
   "cell_type": "code",
   "execution_count": 7,
   "id": "f1293e77",
   "metadata": {},
   "outputs": [
    {
     "data": {
      "text/plain": [
       "['h/n\\n', 'Ha ha ha!/n']"
      ]
     },
     "execution_count": 7,
     "metadata": {},
     "output_type": "execute_result"
    }
   ],
   "source": [
    "poem"
   ]
  },
  {
   "cell_type": "code",
   "execution_count": 8,
   "id": "725d9c85",
   "metadata": {},
   "outputs": [],
   "source": [
    "poem = file.readlines()"
   ]
  },
  {
   "cell_type": "code",
   "execution_count": 9,
   "id": "c06df48a",
   "metadata": {},
   "outputs": [
    {
     "data": {
      "text/plain": [
       "[]"
      ]
     },
     "execution_count": 9,
     "metadata": {},
     "output_type": "execute_result"
    }
   ],
   "source": [
    "poem"
   ]
  },
  {
   "cell_type": "code",
   "execution_count": null,
   "id": "1da9787a",
   "metadata": {},
   "outputs": [],
   "source": []
  }
 ],
 "metadata": {
  "kernelspec": {
   "display_name": "Python 3 (ipykernel)",
   "language": "python",
   "name": "python3"
  },
  "language_info": {
   "codemirror_mode": {
    "name": "ipython",
    "version": 3
   },
   "file_extension": ".py",
   "mimetype": "text/x-python",
   "name": "python",
   "nbconvert_exporter": "python",
   "pygments_lexer": "ipython3",
   "version": "3.9.13"
  }
 },
 "nbformat": 4,
 "nbformat_minor": 5
}
